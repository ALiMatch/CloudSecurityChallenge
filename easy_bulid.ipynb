{
 "cells": [
  {
   "cell_type": "code",
   "execution_count": 2,
   "metadata": {},
   "outputs": [],
   "source": [
    "import pandas as pd\n",
    "import numpy as np"
   ]
  },
  {
   "cell_type": "code",
   "execution_count": 3,
   "metadata": {},
   "outputs": [],
   "source": [
    "data_file=pd.ExcelFile(r'data\\厦航大赛数据20170809.xlsx')"
   ]
  },
  {
   "cell_type": "code",
   "execution_count": 4,
   "metadata": {},
   "outputs": [
    {
     "data": {
      "text/plain": [
       "['航班', '航线-飞机限制', '机场关闭限制', '台风场景', '飞行时间', '机场', '中转时间限制']"
      ]
     },
     "execution_count": 4,
     "output_type": "execute_result",
     "metadata": {}
    }
   ],
   "source": [
    "data_file.sheet_names"
   ]
  },
  {
   "cell_type": "code",
   "execution_count": 5,
   "metadata": {},
   "outputs": [],
   "source": [
    "fligh_list=data_file.parse('航班')"
   ]
  },
  {
   "cell_type": "code",
   "execution_count": 6,
   "metadata": {},
   "outputs": [
    {
     "data": {
      "text/html": [
       "<div>\n",
       "<table border=\"1\" class=\"dataframe\">\n",
       "  <thead>\n",
       "    <tr style=\"text-align: right;\">\n",
       "      <th></th>\n",
       "      <th>航班ID</th>\n",
       "      <th>日期</th>\n",
       "      <th>国际/国内</th>\n",
       "      <th>航班号</th>\n",
       "      <th>起飞机场</th>\n",
       "      <th>降落机场</th>\n",
       "      <th>起飞时间</th>\n",
       "      <th>降落时间</th>\n",
       "      <th>飞机ID</th>\n",
       "      <th>机型</th>\n",
       "      <th>旅客数</th>\n",
       "      <th>联程旅客数</th>\n",
       "      <th>座位数</th>\n",
       "      <th>重要系数</th>\n",
       "    </tr>\n",
       "  </thead>\n",
       "  <tbody>\n",
       "    <tr>\n",
       "      <th>0</th>\n",
       "      <td>1</td>\n",
       "      <td>2017-05-05</td>\n",
       "      <td>国内</td>\n",
       "      <td>346</td>\n",
       "      <td>48</td>\n",
       "      <td>50</td>\n",
       "      <td>2017-05-05 12:20:00</td>\n",
       "      <td>2017-05-05 15:10:00</td>\n",
       "      <td>30</td>\n",
       "      <td>1</td>\n",
       "      <td>113</td>\n",
       "      <td>0</td>\n",
       "      <td>119</td>\n",
       "      <td>1</td>\n",
       "    </tr>\n",
       "    <tr>\n",
       "      <th>1</th>\n",
       "      <td>2</td>\n",
       "      <td>2017-05-07</td>\n",
       "      <td>国内</td>\n",
       "      <td>346</td>\n",
       "      <td>48</td>\n",
       "      <td>50</td>\n",
       "      <td>2017-05-07 12:20:00</td>\n",
       "      <td>2017-05-07 15:10:00</td>\n",
       "      <td>40</td>\n",
       "      <td>1</td>\n",
       "      <td>66</td>\n",
       "      <td>0</td>\n",
       "      <td>119</td>\n",
       "      <td>1</td>\n",
       "    </tr>\n",
       "    <tr>\n",
       "      <th>2</th>\n",
       "      <td>3</td>\n",
       "      <td>2017-05-08</td>\n",
       "      <td>国内</td>\n",
       "      <td>346</td>\n",
       "      <td>48</td>\n",
       "      <td>50</td>\n",
       "      <td>2017-05-08 12:20:00</td>\n",
       "      <td>2017-05-08 15:10:00</td>\n",
       "      <td>31</td>\n",
       "      <td>1</td>\n",
       "      <td>30</td>\n",
       "      <td>0</td>\n",
       "      <td>119</td>\n",
       "      <td>1</td>\n",
       "    </tr>\n",
       "    <tr>\n",
       "      <th>3</th>\n",
       "      <td>4</td>\n",
       "      <td>2017-05-05</td>\n",
       "      <td>国内</td>\n",
       "      <td>347</td>\n",
       "      <td>49</td>\n",
       "      <td>48</td>\n",
       "      <td>2017-05-05 21:00:00</td>\n",
       "      <td>2017-05-05 23:45:00</td>\n",
       "      <td>59</td>\n",
       "      <td>2</td>\n",
       "      <td>123</td>\n",
       "      <td>0</td>\n",
       "      <td>161</td>\n",
       "      <td>1</td>\n",
       "    </tr>\n",
       "    <tr>\n",
       "      <th>4</th>\n",
       "      <td>5</td>\n",
       "      <td>2017-05-06</td>\n",
       "      <td>国内</td>\n",
       "      <td>346</td>\n",
       "      <td>48</td>\n",
       "      <td>50</td>\n",
       "      <td>2017-05-06 12:20:00</td>\n",
       "      <td>2017-05-06 15:10:00</td>\n",
       "      <td>40</td>\n",
       "      <td>1</td>\n",
       "      <td>97</td>\n",
       "      <td>0</td>\n",
       "      <td>119</td>\n",
       "      <td>1</td>\n",
       "    </tr>\n",
       "  </tbody>\n",
       "</table>\n",
       "</div>"
      ]
     },
     "execution_count": 6,
     "output_type": "execute_result",
     "metadata": {}
    }
   ],
   "source": [
    "fligh_list.head()"
   ]
  },
  {
   "cell_type": "code",
   "execution_count": 7,
   "metadata": {},
   "outputs": [],
   "source": [
    "fligh_line=data_file.parse('航线-飞机限制')"
   ]
  },
  {
   "cell_type": "code",
   "execution_count": 8,
   "metadata": {},
   "outputs": [
    {
     "data": {
      "text/html": [
       "<div>\n",
       "<table border=\"1\" class=\"dataframe\">\n",
       "  <thead>\n",
       "    <tr style=\"text-align: right;\">\n",
       "      <th></th>\n",
       "      <th>起飞机场</th>\n",
       "      <th>降落机场</th>\n",
       "      <th>飞机ID</th>\n",
       "    </tr>\n",
       "  </thead>\n",
       "  <tbody>\n",
       "    <tr>\n",
       "      <th>0</th>\n",
       "      <td>75</td>\n",
       "      <td>54</td>\n",
       "      <td>3</td>\n",
       "    </tr>\n",
       "    <tr>\n",
       "      <th>1</th>\n",
       "      <td>32</td>\n",
       "      <td>47</td>\n",
       "      <td>3</td>\n",
       "    </tr>\n",
       "    <tr>\n",
       "      <th>2</th>\n",
       "      <td>32</td>\n",
       "      <td>26</td>\n",
       "      <td>3</td>\n",
       "    </tr>\n",
       "    <tr>\n",
       "      <th>3</th>\n",
       "      <td>1</td>\n",
       "      <td>49</td>\n",
       "      <td>3</td>\n",
       "    </tr>\n",
       "    <tr>\n",
       "      <th>4</th>\n",
       "      <td>10</td>\n",
       "      <td>49</td>\n",
       "      <td>3</td>\n",
       "    </tr>\n",
       "  </tbody>\n",
       "</table>\n",
       "</div>"
      ]
     },
     "execution_count": 8,
     "output_type": "execute_result",
     "metadata": {}
    }
   ],
   "source": [
    "fligh_line.head()"
   ]
  },
  {
   "cell_type": "code",
   "execution_count": null,
   "metadata": {},
   "outputs": [],
   "source": [
    ""
   ]
  }
 ],
 "metadata": {},
 "nbformat": 4,
 "nbformat_minor": 0
}