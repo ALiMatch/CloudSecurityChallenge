{
 "cells": [
  {
   "cell_type": "code",
   "execution_count": 2,
   "metadata": {},
   "outputs": [],
   "source": [
    "import pandas as pd\n",
    "import numpy as np"
   ]
  },
  {
   "cell_type": "code",
   "execution_count": 3,
   "metadata": {},
   "outputs": [],
   "source": [
    "data_file=pd.ExcelFile(r'data\\厦航大赛数据20170809.xlsx')"
   ]
  },
  {
   "cell_type": "code",
   "execution_count": 4,
   "metadata": {},
   "outputs": [
    {
     "data": {
      "text/plain": [
       "['航班', '航线-飞机限制', '机场关闭限制', '台风场景', '飞行时间', '机场', '中转时间限制']"
      ]
     },
     "execution_count": 4,
     "output_type": "execute_result",
     "metadata": {}
    }
   ],
   "source": [
    "data_file.sheet_names"
   ]
  },
  {
   "cell_type": "code",
   "execution_count": 10,
   "metadata": {},
   "outputs": [],
   "source": [
    "fligh_list=data_file.parse('航班')\n",
    "fligh_line=data_file.parse('航线-飞机限制')\n",
    "airport_limit=data_file.parse('机场关闭限制')\n",
    "typhoon=data_file.parse('飞行时间')\n",
    "airport=data_file.parse('机场')\n",
    "connecting_time=data_file.parse('中转时间限制')"
   ]
  },
  {
   "cell_type": "code",
   "execution_count": 18,
   "metadata": {},
   "outputs": [],
   "source": [
    "fligh_type_change=pd.DataFrame(np.array([[0.0,0.0,2.0,4.0],\n",
    "                                        [0.5,0.0,2.0,4.0],\n",
    "                                        [1.5,1.5,0.0,2.0],\n",
    "                                        [1.5,1.5,2.0,0.0]]),\n",
    "                              index=range(1,5),\n",
    "                              columns=range(1,5))"
   ]
  },
  {
   "cell_type": "code",
   "execution_count": 19,
   "metadata": {},
   "outputs": [],
   "source": [
    "change_fligh=[15,5]"
   ]
  },
  {
   "cell_type": "code",
   "execution_count": 23,
   "metadata": {},
   "outputs": [],
   "source": [
    "fligh_delayed=pd.DataFrame(np.array([[0.0,2.0,1.0],\n",
    "                            [2.0,4.0,1.5],\n",
    "                            [4.0,8.0,2.0],\n",
    "                            [8.0,36.0,3.0],\n",
    "                            [36,np.inf,np.nan]]),\n",
    "                           columns=['floor','uper','value'])"
   ]
  },
  {
   "cell_type": "code",
   "execution_count": 21,
   "metadata": {},
   "outputs": [],
   "source": [
    "endorsement_delayed=pd.DataFrame(np.array([[0.0,0.6,0.0],\n",
    "                                           [6.0,24.0,0.5],\n",
    "                                           [24.0,48.0,1.0],\n",
    "                                           [48.0,np.inf,np.nan]]),\n",
    "                                 columns=['floor','uper','value'])"
   ]
  },
  {
   "cell_type": "code",
   "execution_count": 25,
   "metadata": {},
   "outputs": [
    {
     "data": {
      "text/html": [
       "<div>\n",
       "<table border=\"1\" class=\"dataframe\">\n",
       "  <thead>\n",
       "    <tr style=\"text-align: right;\">\n",
       "      <th></th>\n",
       "      <th>floor</th>\n",
       "      <th>uper</th>\n",
       "      <th>value</th>\n",
       "    </tr>\n",
       "  </thead>\n",
       "  <tbody>\n",
       "    <tr>\n",
       "      <th>0</th>\n",
       "      <td>0</td>\n",
       "      <td>0.600000</td>\n",
       "      <td>0.0</td>\n",
       "    </tr>\n",
       "    <tr>\n",
       "      <th>1</th>\n",
       "      <td>6</td>\n",
       "      <td>24.000000</td>\n",
       "      <td>0.5</td>\n",
       "    </tr>\n",
       "    <tr>\n",
       "      <th>2</th>\n",
       "      <td>24</td>\n",
       "      <td>48.000000</td>\n",
       "      <td>1.0</td>\n",
       "    </tr>\n",
       "    <tr>\n",
       "      <th>3</th>\n",
       "      <td>48</td>\n",
       "      <td>inf</td>\n",
       "      <td>NaN</td>\n",
       "    </tr>\n",
       "  </tbody>\n",
       "</table>\n",
       "</div>"
      ]
     },
     "execution_count": 25,
     "output_type": "execute_result",
     "metadata": {}
    }
   ],
   "source": [
    ""
   ]
  },
  {
   "cell_type": "code",
   "execution_count": null,
   "metadata": {},
   "outputs": [],
   "source": [
    ""
   ]
  },
  {
   "cell_type": "code",
   "execution_count": null,
   "metadata": {},
   "outputs": [],
   "source": [
    ""
   ]
  }
 ],
 "metadata": {},
 "nbformat": 4,
 "nbformat_minor": 0
}